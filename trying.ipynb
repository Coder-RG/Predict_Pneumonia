{
 "cells": [
  {
   "cell_type": "code",
   "execution_count": 1,
   "metadata": {},
   "outputs": [],
   "source": [
    "import os\n",
    "import numpy as np\n",
    "import tensorflow as tf\n",
    "from matplotlib import image, pyplot as plt"
   ]
  },
  {
   "cell_type": "code",
   "execution_count": 19,
   "metadata": {},
   "outputs": [
    {
     "name": "stdout",
     "output_type": "stream",
     "text": [
      "(1341, 600, 600)\n"
     ]
    }
   ],
   "source": [
    "base = \"./dataset/chest_xray/train/NORMAL\"\n",
    "lst = []\n",
    "smallest = 10000\n",
    "for x in os.listdir(base):\n",
    "    data = image.imread(os.path.join(base, x))\n",
    "    data = np.resize(data, (600, 600))\n",
    "    lst.append(data)\n",
    "\n",
    "arr = np.asarray(lst)\n",
    "print(arr.shape)"
   ]
  },
  {
   "cell_type": "code",
   "execution_count": 5,
   "metadata": {},
   "outputs": [
    {
     "name": "stdout",
     "output_type": "stream",
     "text": [
      "10000\n"
     ]
    }
   ],
   "source": [
    "print(smallest)"
   ]
  },
  {
   "cell_type": "code",
   "execution_count": 2,
   "metadata": {},
   "outputs": [
    {
     "name": "stdout",
     "output_type": "stream",
     "text": [
      "234\n",
      "390\n",
      "1341\n",
      "3875\n",
      "8\n",
      "8\n"
     ]
    }
   ],
   "source": [
    "# count = 0\n",
    "base = \"./dataset/chest_xray\"\n",
    "cat = (\"test\", \"train\", \"val\")\n",
    "subcat = (\"NORMAL\", \"PNEUMONIA\")\n",
    "for c in cat:\n",
    "    for subc in subcat:\n",
    "        count = 0\n",
    "        ext = os.path.join(base, c, subc)\n",
    "        for x in os.scandir(ext):\n",
    "            count+=1\n",
    "        print(count)"
   ]
  },
  {
   "cell_type": "code",
   "execution_count": 7,
   "metadata": {},
   "outputs": [
    {
     "name": "stdout",
     "output_type": "stream",
     "text": [
      "<class 'nt.DirEntry'>\n",
      "<DirEntry 'person1946_bacteria_4874.jpeg'>\n"
     ]
    }
   ],
   "source": [
    "for x in os.scandir(ext):\n",
    "#     data = image.imread(x)\n",
    "    print(type(x))\n",
    "    print(x)\n",
    "#     print(data.shape)\n",
    "    break"
   ]
  },
  {
   "cell_type": "code",
   "execution_count": 1,
   "metadata": {},
   "outputs": [
    {
     "data": {
      "text/plain": [
       "5216"
      ]
     },
     "execution_count": 1,
     "metadata": {},
     "output_type": "execute_result"
    }
   ],
   "source": [
    "1341 + 3875"
   ]
  }
 ],
 "metadata": {
  "kernelspec": {
   "display_name": "Python 3",
   "language": "python",
   "name": "python3"
  },
  "language_info": {
   "codemirror_mode": {
    "name": "ipython",
    "version": 3
   },
   "file_extension": ".py",
   "mimetype": "text/x-python",
   "name": "python",
   "nbconvert_exporter": "python",
   "pygments_lexer": "ipython3",
   "version": "3.8.4"
  }
 },
 "nbformat": 4,
 "nbformat_minor": 4
}
