{
 "cells": [
  {
   "cell_type": "markdown",
   "metadata": {},
   "source": [
    "## The model in this notebook does not perform very well mainly because I don't know data augmentation and don't have the necessary processing power to train a deep NN.\n",
    "\n",
    "### However, if you are having trouble getting started with this dataset, then maybe I could be of some assistance.\n",
    "\n",
    "***\n",
    "\n",
    "Basic layout:\n",
    "* Importing the necessary modules\n",
    "* creating a dataset from the image folders\n",
    "* Building a model\n",
    "* Training the model\n",
    "* Testing the model"
   ]
  },
  {
   "cell_type": "markdown",
   "metadata": {},
   "source": [
    "So far so good!\n",
    "\n",
    "Now we will import some necessary modules.\n",
    "\n",
    "1. os :- To be able to open an image in this notebook\n",
    "2. numpy :- Helps in interacting with arrays\n",
    "3. tensorflow :- Will use keras from this module\n",
    "4. matplotlib :- Helps to plot and also be to convert an image to numpy array"
   ]
  },
  {
   "cell_type": "code",
   "execution_count": 2,
   "metadata": {},
   "outputs": [],
   "source": [
    "import os\n",
    "import numpy as np\n",
    "from numpy import load\n",
    "from tensorflow import keras\n",
    "from matplotlib import image, pyplot as plt"
   ]
  },
  {
   "cell_type": "markdown",
   "metadata": {},
   "source": [
    "Things are starting to get interesting! Here I have created a function to create a single numpy array from the dataset folder.\n",
    "\n",
    "`create_array()` has an attribute `name` in which we will pass the folder name i.e train, test, val to build a dataset from these folders. The resulting array is of dimension (m, 200, 200, 1), where m is the number of images."
   ]
  },
  {
   "cell_type": "code",
   "execution_count": null,
   "metadata": {},
   "outputs": [],
   "source": [
    "def create_array(name):\n",
    "    base = \"./dataset\"\n",
    "    subfolder = (\"NORMAL\", \"PNEUMONIA\")\n",
    "\n",
    "    x = []\n",
    "    y = []\n",
    "    for cat in subfolder:\n",
    "        ext = os.path.join(base, name, cat)\n",
    "        for file in os.listdir(ext):\n",
    "            x.append(np.resize(image.imread(os.path.join(ext, file)), (200, 200, 1)))\n",
    "            if cat == \"NORMAL\":\n",
    "                y.append(1)\n",
    "            else:\n",
    "                y.append(0)\n",
    "    return np.asarray(x),np.asarray(y)"
   ]
  },
  {
   "cell_type": "markdown",
   "metadata": {},
   "source": [
    "This is a demonstration of building an array using the above function.\n",
    "The way this works is, first you pass the name of the folder in the dataset images folder and then the function simply creates a path by joining the `name` and the subfolders inside this folder.\n",
    "\n",
    "ex: `create_array(\"train\")` folder path will be `\"./dataset/train/NORMAL/image_name.jpg\"` and `\"./dataset/train/PNEUMONIA/image_name.jpg\"`"
   ]
  },
  {
   "cell_type": "code",
   "execution_count": null,
   "metadata": {},
   "outputs": [],
   "source": [
    "X_train, y_train = create_array(\"train\")"
   ]
  },
  {
   "cell_type": "markdown",
   "metadata": {},
   "source": [
    "I have already done the above steps and had saved the numpy arrays in the `.npz` format, so that I won't have to do all the data loading again since it takes quite some time."
   ]
  },
  {
   "cell_type": "code",
   "execution_count": 3,
   "metadata": {},
   "outputs": [],
   "source": [
    "X_train = load('./dataset/xtrain.npz')['arr_0']\n",
    "y_train = load('./dataset/ytrain.npz')['arr_0']\n",
    "\n",
    "X_test = load('./dataset/xtest.npz')['arr_0']\n",
    "y_test = load('./dataset/ytest.npz')['arr_0']\n",
    "X_val = load('./dataset/xval.npz')['arr_0']\n",
    "y_val = load('./dataset/yval.npz')['arr_0']"
   ]
  },
  {
   "cell_type": "markdown",
   "metadata": {},
   "source": [
    "As you can see, The shape of the data is (m, 200, 200, 1) and of the target is (m,)"
   ]
  },
  {
   "cell_type": "code",
   "execution_count": 4,
   "metadata": {},
   "outputs": [
    {
     "name": "stdout",
     "output_type": "stream",
     "text": [
      "Training data shape: (5216, 200, 200, 1)\n",
      "Training target shape: (5216,)\n",
      "Test data shape: (624, 200, 200, 1)\n",
      "Test target shape: (624,)\n",
      "Validation data shape: (16, 200, 200, 1)\n",
      "Validation target shape: (16,)\n"
     ]
    }
   ],
   "source": [
    "print(\"Training data shape:\", X_train.shape)\n",
    "print(\"Training target shape:\", y_train.shape)\n",
    "print(\"Test data shape:\", X_test.shape)\n",
    "print(\"Test target shape:\", y_test.shape)\n",
    "print(\"Validation data shape:\", X_val.shape)\n",
    "print(\"Validation target shape:\", y_val.shape)"
   ]
  },
  {
   "cell_type": "markdown",
   "metadata": {},
   "source": [
    "The following code is not important, this is only written to get the necessary values for plotting the data."
   ]
  },
  {
   "cell_type": "code",
   "execution_count": 54,
   "metadata": {},
   "outputs": [],
   "source": [
    "base = \"./dataset\"\n",
    "subfolder = (\"NORMAL\", \"PNEUMONIA\")\n",
    "x = []"
   ]
  },
  {
   "cell_type": "code",
   "execution_count": 57,
   "metadata": {},
   "outputs": [
    {
     "name": "stdout",
     "output_type": "stream",
     "text": [
      "[1341, 3875, 234, 390, 8, 8]\n"
     ]
    }
   ],
   "source": [
    "for cat in subfolder:\n",
    "    ext = os.path.join(base, \"val\", cat) #Just change the \"val\" with \"train\", \"test\" to\n",
    "    x.append(len(os.listdir(ext)))       #get the count of images in subfolder\n",
    "print(x)"
   ]
  },
  {
   "cell_type": "markdown",
   "metadata": {},
   "source": [
    "### In this cell, we will visualize the dataset.\n",
    "\n",
    "#### What we observe: The data is not uniform for the two categories. To solve this, data augmentation is to be used which I am not familiar with. "
   ]
  },
  {
   "cell_type": "code",
   "execution_count": 46,
   "metadata": {},
   "outputs": [
    {
     "data": {
      "image/png": "[encoded data removed]",
      "text/plain": [
       "<Figure size 360x720 with 3 Axes>"
      ]
     },
     "metadata": {
      "needs_background": "light"
     },
     "output_type": "display_data"
    }
   ],
   "source": [
    "plt.figure(figsize=(5, 10))\n",
    "plt.subplot(3,1,1)\n",
    "plt.bar([\"Normal\", \"Pneumonia\"], x[:2])\n",
    "\n",
    "plt.subplot(3,1,2)\n",
    "plt.bar([\"Normal\", \"Pneumonia\"], x[2:4])\n",
    "\n",
    "plt.subplot(3,1,3)\n",
    "plt.bar([\"Normal\", \"Pneumonia\"], x[4:])\n",
    "plt.show()"
   ]
  },
  {
   "cell_type": "markdown",
   "metadata": {},
   "source": [
    "* I have used `np.random.permuatation` to create a shuffled image. I don't know how effective this is and you could use `np.random.shuffle()` to shuffle the images but remember to zip the images together so that the X and y are shuffled in the same order.\n",
    "\n",
    "* Next I have divided the array with 255 so as to normalize the image data between 0 and 1."
   ]
  },
  {
   "cell_type": "code",
   "execution_count": 5,
   "metadata": {},
   "outputs": [],
   "source": [
    "arr1 = np.random.permutation(X_train.shape[0])\n",
    "X_train = X_train/255\n",
    "y_train = y_train/255\n",
    "\n",
    "arr2 = np.random.permutation(X_test.shape[0])\n",
    "arr3 = np.random.permutation(X_val.shape[0])\n",
    "X_test = X_test/255\n",
    "y_test = y_test/255\n",
    "X_val = X_val/255\n",
    "y_val = y_val/255"
   ]
  },
  {
   "cell_type": "markdown",
   "metadata": {},
   "source": [
    "Here comes the interesting part! We build a ConvNet to classify the images."
   ]
  },
  {
   "cell_type": "code",
   "execution_count": 6,
   "metadata": {},
   "outputs": [],
   "source": [
    "def PModel(input_shape):\n",
    "    X_input = keras.layers.Input(input_shape)  \n",
    "    X = keras.layers.Conv2D(7, (3, 3), strides=(1,1), padding='same', kernel_initializer='glorot_uniform', activation='relu', name = 'conv0')(X_input)\n",
    "    X = keras.layers.Conv2D(14, (3, 3), strides=(1,1), padding='valid', kernel_initializer='glorot_uniform', activation='relu', name = 'conv1')(X)\n",
    "    X = keras.layers.Conv2D(28, (2, 2), strides=(1,1), padding='valid', name='conv2')(X)\n",
    "    X = keras.layers.BatchNormalization(axis=3, name='bn0')(X)\n",
    "    X = keras.layers.Activation('relu', name='ac0')(X)\n",
    "    X = keras.layers.MaxPooling2D((2,2), name='avg_pool')(X)\n",
    "    X = keras.layers.Flatten()(X)\n",
    "    X = keras.layers.Dense(1, activation='sigmoid', name='fc')(X)\n",
    "   \n",
    "    model = keras.Model(inputs = X_input, outputs = X, name='PModel')\n",
    "  \n",
    "    return model"
   ]
  },
  {
   "cell_type": "markdown",
   "metadata": {},
   "source": [
    "This will initialize the model by giving it the shape of the input data."
   ]
  },
  {
   "cell_type": "code",
   "execution_count": 8,
   "metadata": {},
   "outputs": [],
   "source": [
    "pmodel = PModel(X_train.shape[1:])"
   ]
  },
  {
   "cell_type": "markdown",
   "metadata": {},
   "source": [
    "Compile the model with various parameters. You can visit [tensorflow](www.tensorflow.org) website to find help."
   ]
  },
  {
   "cell_type": "code",
   "execution_count": 9,
   "metadata": {},
   "outputs": [],
   "source": [
    "pmodel.compile(optimizer='adam', loss='binary_crossentropy', metrics=['accuracy'])"
   ]
  },
  {
   "cell_type": "code",
   "execution_count": 10,
   "metadata": {},
   "outputs": [
    {
     "name": "stdout",
     "output_type": "stream",
     "text": [
      "Epoch 1/2\n",
      "82/82 [==============================] - 316s 4s/step - loss: 0.0631 - accuracy: 0.7339\n",
      "Epoch 2/2\n",
      "82/82 [==============================] - 339s 4s/step - loss: 0.0097 - accuracy: 0.7429\n"
     ]
    },
    {
     "data": {
      "text/plain": [
       "<tensorflow.python.keras.callbacks.History at 0x2aafa8b7400>"
      ]
     },
     "execution_count": 10,
     "metadata": {},
     "output_type": "execute_result"
    }
   ],
   "source": [
    "pmodel.fit(x=X_train[arr1], y=y_train[arr1], epochs=2, batch_size=64)"
   ]
  },
  {
   "cell_type": "code",
   "execution_count": 11,
   "metadata": {},
   "outputs": [
    {
     "name": "stdout",
     "output_type": "stream",
     "text": [
      "20/20 [==============================] - 5s 238ms/step - loss: 0.0121 - accuracy: 0.6250\n",
      "Loss:  0.012054018676280975\n",
      "Accuracy:  0.625\n"
     ]
    }
   ],
   "source": [
    "performance = pmodel.evaluate(x=X_test[arr2], y=y_test[arr2])\n",
    "print(\"Loss: \", performance[0])\n",
    "print(\"Accuracy: \", performance[1])"
   ]
  },
  {
   "cell_type": "markdown",
   "metadata": {},
   "source": [
    "The model performace is very poor and the possible causes:\n",
    "1. Dataset is not balanced\n",
    "2. No data augmentation\n",
    "3. The ConvNet is not deep enough to be able to identify enough features."
   ]
  },
  {
   "cell_type": "code",
   "execution_count": 29,
   "metadata": {
    "scrolled": false
   },
   "outputs": [
    {
     "name": "stdout",
     "output_type": "stream",
     "text": [
      "Model: \"PModel\"\n",
      "_________________________________________________________________\n",
      "Layer (type)                 Output Shape              Param #   \n",
      "=================================================================\n",
      "input_2 (InputLayer)         [(None, 200, 200, 1)]     0         \n",
      "_________________________________________________________________\n",
      "conv0 (Conv2D)               (None, 200, 200, 7)       70        \n",
      "_________________________________________________________________\n",
      "conv1 (Conv2D)               (None, 198, 198, 14)      896       \n",
      "_________________________________________________________________\n",
      "conv2 (Conv2D)               (None, 197, 197, 28)      1596      \n",
      "_________________________________________________________________\n",
      "bn0 (BatchNormalization)     (None, 197, 197, 28)      112       \n",
      "_________________________________________________________________\n",
      "ac0 (Activation)             (None, 197, 197, 28)      0         \n",
      "_________________________________________________________________\n",
      "avg_pool (MaxPooling2D)      (None, 98, 98, 28)        0         \n",
      "_________________________________________________________________\n",
      "flatten_1 (Flatten)          (None, 268912)            0         \n",
      "_________________________________________________________________\n",
      "fc (Dense)                   (None, 1)                 268913    \n",
      "=================================================================\n",
      "Total params: 271,587\n",
      "Trainable params: 271,531\n",
      "Non-trainable params: 56\n",
      "_________________________________________________________________\n",
      "None\n"
     ]
    }
   ],
   "source": [
    "print(pmodel.summary())"
   ]
  },
  {
   "cell_type": "markdown",
   "metadata": {},
   "source": [
    "Hope this helped you to get started with the dataset and be able to build your model.\n",
    "Cheers!"
   ]
  }
 ],
 "metadata": {
  "kernelspec": {
   "display_name": "Python 3",
   "language": "python",
   "name": "python3"
  },
  "language_info": {
   "codemirror_mode": {
    "name": "ipython",
    "version": 3
   },
   "file_extension": ".py",
   "mimetype": "text/x-python",
   "name": "python",
   "nbconvert_exporter": "python",
   "pygments_lexer": "ipython3",
   "version": "3.8.4"
  }
 },
 "nbformat": 4,
 "nbformat_minor": 4
}
