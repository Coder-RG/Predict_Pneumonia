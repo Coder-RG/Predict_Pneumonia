{
 "cells": [
  {
   "cell_type": "code",
   "execution_count": 3,
   "metadata": {},
   "outputs": [],
   "source": [
    "import os\n",
    "import numpy as np\n",
    "import tensorflow as tf\n",
    "from matplotlib import image, pyplot as plt"
   ]
  },
  {
   "cell_type": "code",
   "execution_count": 9,
   "metadata": {},
   "outputs": [
    {
     "name": "stdout",
     "output_type": "stream",
     "text": [
      "(1858, 2090)\n",
      "(1858, 2090)\n",
      "(1858, 2090)\n",
      "(1858, 2090)\n",
      "(1858, 2090)\n"
     ]
    }
   ],
   "source": [
    "base = \"./dataset/chest_xray/train\"\n",
    "for x in os.listdir(base)[:5]:\n",
    "    data = image.imread(os.path.join(base, ext))\n",
    "    print(data.shape)"
   ]
  },
  {
   "cell_type": "code",
   "execution_count": 19,
   "metadata": {},
   "outputs": [
    {
     "name": "stdout",
     "output_type": "stream",
     "text": [
      "234\n",
      "390\n",
      "1341\n",
      "3875\n",
      "8\n",
      "8\n"
     ]
    }
   ],
   "source": [
    "# count = 0\n",
    "base = \"./dataset/chest_xray\"\n",
    "cat = (\"test\", \"train\", \"val\")\n",
    "subcat = (\"NORMAL\", \"PNEUMONIA\")\n",
    "for c in cat:\n",
    "    for subc in subcat:\n",
    "        count = 0\n",
    "        ext = os.path.join(base, c, subc)\n",
    "        for x in os.scandir(ext):\n",
    "            count+=1\n",
    "        print(count)"
   ]
  },
  {
   "cell_type": "code",
   "execution_count": null,
   "metadata": {},
   "outputs": [],
   "source": []
  }
 ],
 "metadata": {
  "kernelspec": {
   "display_name": "Python 3",
   "language": "python",
   "name": "python3"
  },
  "language_info": {
   "codemirror_mode": {
    "name": "ipython",
    "version": 3
   },
   "file_extension": ".py",
   "mimetype": "text/x-python",
   "name": "python",
   "nbconvert_exporter": "python",
   "pygments_lexer": "ipython3",
   "version": "3.8.4"
  }
 },
 "nbformat": 4,
 "nbformat_minor": 4
}
